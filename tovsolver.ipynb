{
 "cells": [
  {
   "cell_type": "code",
   "execution_count": 241,
   "id": "6505d593",
   "metadata": {},
   "outputs": [],
   "source": [
    "import numpy as np\n",
    "import matplotlib.pyplot as plt\n",
    "import matplotlib\n",
    "from scipy.interpolate import interp1d\n",
    "from scipy.integrate import odeint\n",
    "from scipy.optimize import root\n",
    "import pandas as pd\n",
    "%matplotlib inline\n",
    "import scienceplots\n",
    "plt.style.use('nature')\n",
    "plt.rc('font', family = 'serif')\n",
    "plt.rc('figure', figsize = (8,6))\n",
    "plt.rc('xtick', labelsize = 9) \n",
    "plt.rc('ytick', labelsize = 9) \n",
    "plt.rc('axes', titlesize = 14)\n",
    "plt.rc('axes', labelsize = 12)\n",
    "\n",
    "import astropy.constants as const\n",
    "import astropy.units as u\n",
    "G = const.G.value\n",
    "c = const.c.value\n",
    "Msun = const.M_sun.value"
   ]
  },
  {
   "cell_type": "code",
   "execution_count": 176,
   "id": "b753e58c",
   "metadata": {},
   "outputs": [],
   "source": [
    "eos = np.genfromtxt('eos1.dat',names = [\"nB\" ,\"energy_density\", \"pressure\", \"mu1\", \"mu2\"])"
   ]
  },
  {
   "cell_type": "code",
   "execution_count": 162,
   "id": "71eba551",
   "metadata": {},
   "outputs": [],
   "source": [
    "eos = np.genfromtxt('eos1.dat',names = [\"nB\" ,\"pressure\", \"energy_density\", \"mu1\", \"mu2\"])"
   ]
  },
  {
   "cell_type": "code",
   "execution_count": 177,
   "id": "24ee218f",
   "metadata": {},
   "outputs": [
    {
     "data": {
      "text/plain": [
       "array([(7.86637631e-15, 1.88643769e-19, 7.37866079e-12, 0.00075325,  938.        ),\n",
       "       (2.48756661e-14, 1.20284928e-18, 2.33333752e-11, 0.00075325,  938.00006439),\n",
       "       (7.86637631e-14, 7.66972793e-18, 7.37866174e-11, 0.00075325,  938.00019421),\n",
       "       ...,\n",
       "       (7.99760000e+00, 6.36721337e+03, 1.93108818e+04, 0.33333333, 3210.7251129 ),\n",
       "       (7.99840000e+00, 6.36806947e+03, 1.93134501e+04, 0.33333333, 3210.83211566),\n",
       "       (7.99920000e+00, 6.36892561e+03, 1.93160185e+04, 0.33333333, 3210.93911128)],\n",
       "      dtype=[('nB', '<f8'), ('energy_density', '<f8'), ('pressure', '<f8'), ('mu1', '<f8'), ('mu2', '<f8')])"
      ]
     },
     "execution_count": 177,
     "metadata": {},
     "output_type": "execute_result"
    }
   ],
   "source": [
    "eos"
   ]
  },
  {
   "cell_type": "code",
   "execution_count": 146,
   "id": "00f51ba6",
   "metadata": {},
   "outputs": [],
   "source": [
    "mask = np.isnan(eos['pressure'])"
   ]
  },
  {
   "cell_type": "code",
   "execution_count": 149,
   "id": "31738076",
   "metadata": {},
   "outputs": [],
   "source": [
    "eos = eos[~mask]"
   ]
  },
  {
   "cell_type": "code",
   "execution_count": 242,
   "id": "cd3b6da0",
   "metadata": {},
   "outputs": [],
   "source": [
    "eos = pd.read_csv('example_eos.dat', delimiter = ' ')"
   ]
  },
  {
   "cell_type": "code",
   "execution_count": 234,
   "id": "b3bbd5a2",
   "metadata": {},
   "outputs": [],
   "source": [
    "eos = pd.read_csv('eos_unified_FSUGarnet.dat', names = [\"nB\" ,\"energy_density\", \"pressure\"], skiprows = 1, delimiter = ' ')"
   ]
  },
  {
   "cell_type": "code",
   "execution_count": 243,
   "id": "5e22250a",
   "metadata": {},
   "outputs": [
    {
     "data": {
      "text/html": [
       "<div>\n",
       "<style scoped>\n",
       "    .dataframe tbody tr th:only-of-type {\n",
       "        vertical-align: middle;\n",
       "    }\n",
       "\n",
       "    .dataframe tbody tr th {\n",
       "        vertical-align: top;\n",
       "    }\n",
       "\n",
       "    .dataframe thead th {\n",
       "        text-align: right;\n",
       "    }\n",
       "</style>\n",
       "<table border=\"1\" class=\"dataframe\">\n",
       "  <thead>\n",
       "    <tr style=\"text-align: right;\">\n",
       "      <th></th>\n",
       "      <th>energy_density</th>\n",
       "      <th>pressure</th>\n",
       "    </tr>\n",
       "  </thead>\n",
       "  <tbody>\n",
       "    <tr>\n",
       "      <th>0</th>\n",
       "      <td>0.938098</td>\n",
       "      <td>0.000327</td>\n",
       "    </tr>\n",
       "    <tr>\n",
       "      <th>1</th>\n",
       "      <td>0.985034</td>\n",
       "      <td>0.000347</td>\n",
       "    </tr>\n",
       "    <tr>\n",
       "      <th>2</th>\n",
       "      <td>1.034284</td>\n",
       "      <td>0.000368</td>\n",
       "    </tr>\n",
       "    <tr>\n",
       "      <th>3</th>\n",
       "      <td>1.086017</td>\n",
       "      <td>0.000391</td>\n",
       "    </tr>\n",
       "    <tr>\n",
       "      <th>4</th>\n",
       "      <td>1.140338</td>\n",
       "      <td>0.000415</td>\n",
       "    </tr>\n",
       "    <tr>\n",
       "      <th>...</th>\n",
       "      <td>...</td>\n",
       "      <td>...</td>\n",
       "    </tr>\n",
       "    <tr>\n",
       "      <th>193</th>\n",
       "      <td>30316.339002</td>\n",
       "      <td>7806.157116</td>\n",
       "    </tr>\n",
       "    <tr>\n",
       "      <th>194</th>\n",
       "      <td>32236.178702</td>\n",
       "      <td>8366.596957</td>\n",
       "    </tr>\n",
       "    <tr>\n",
       "      <th>195</th>\n",
       "      <td>34281.117609</td>\n",
       "      <td>8970.859175</td>\n",
       "    </tr>\n",
       "    <tr>\n",
       "      <th>196</th>\n",
       "      <td>36459.619724</td>\n",
       "      <td>9619.856985</td>\n",
       "    </tr>\n",
       "    <tr>\n",
       "      <th>197</th>\n",
       "      <td>38780.642252</td>\n",
       "      <td>10315.432065</td>\n",
       "    </tr>\n",
       "  </tbody>\n",
       "</table>\n",
       "<p>198 rows × 2 columns</p>\n",
       "</div>"
      ],
      "text/plain": [
       "     energy_density      pressure\n",
       "0          0.938098      0.000327\n",
       "1          0.985034      0.000347\n",
       "2          1.034284      0.000368\n",
       "3          1.086017      0.000391\n",
       "4          1.140338      0.000415\n",
       "..              ...           ...\n",
       "193    30316.339002   7806.157116\n",
       "194    32236.178702   8366.596957\n",
       "195    34281.117609   8970.859175\n",
       "196    36459.619724   9619.856985\n",
       "197    38780.642252  10315.432065\n",
       "\n",
       "[198 rows x 2 columns]"
      ]
     },
     "execution_count": 243,
     "metadata": {},
     "output_type": "execute_result"
    }
   ],
   "source": [
    "eos"
   ]
  },
  {
   "cell_type": "code",
   "execution_count": 41,
   "id": "7db0c8b2",
   "metadata": {},
   "outputs": [],
   "source": [
    "eos = np.genfromtxt(\"data/Baym_eos.dat\", \n",
    "                         dtype=float, skip_header=1,\n",
    "                         names=[\"energy_density\", \"pressure\", \"nB\",])"
   ]
  },
  {
   "cell_type": "code",
   "execution_count": 163,
   "id": "dbe92439",
   "metadata": {},
   "outputs": [],
   "source": [
    "eos['energy_density'] = (eos['energy_density']*u.MeV/u.fm**3).decompose()\n",
    "eos['pressure'] = (eos['pressure']*u.MeV/u.fm**3).decompose()"
   ]
  },
  {
   "cell_type": "code",
   "execution_count": 205,
   "id": "9abb99dc",
   "metadata": {},
   "outputs": [],
   "source": [
    "eos['energy_density'] *= MeV_fm3_to_pa_cgs/c**2\n",
    "eos['pressure'] *= MeV_fm3_to_pa_cgs"
   ]
  },
  {
   "cell_type": "code",
   "execution_count": 189,
   "id": "9964eebb",
   "metadata": {},
   "outputs": [],
   "source": [
    "eos['energy_density'] = (eos['energy_density'].to_numpy()*u.MeV/u.fm**3).decompose()\n",
    "eos['pressure'] = (eos['pressure'].to_numpy()*u.MeV/u.fm**3).decompose()"
   ]
  },
  {
   "cell_type": "code",
   "execution_count": 244,
   "id": "52a53edc",
   "metadata": {},
   "outputs": [
    {
     "data": {
      "image/png": "[encoded data removed]",
      "text/plain": [
       "<Figure size 800x600 with 1 Axes>"
      ]
     },
     "metadata": {},
     "output_type": "display_data"
    }
   ],
   "source": [
    "plt.plot(eos['energy_density'], eos['pressure'], color = 'cornflowerblue', linestyle = '--', markersize = 2)\n",
    "plt.xlabel('$\\epsilon$')\n",
    "plt.ylabel('$P$')\n",
    "plt.grid(alpha = 0.4, linestyle = '--')\n",
    "plt.title('EoS')\n",
    "plt.xscale('log')\n",
    "plt.yscale('log')"
   ]
  },
  {
   "cell_type": "code",
   "execution_count": 207,
   "id": "4fafe73d",
   "metadata": {},
   "outputs": [],
   "source": [
    "eps = interp1d(eos['pressure'], eos['energy_density'], 'cubic')\n",
    "press = interp1d(eos['energy_density'], eos['pressure'], kind='cubic')"
   ]
  },
  {
   "cell_type": "code",
   "execution_count": 208,
   "id": "03e3a7b0",
   "metadata": {},
   "outputs": [],
   "source": [
    "TOV_PARAMS = {\"minP\": np.min(eos['pressure']), \"maxP\": np.max(eos['pressure']), \"minE\": np.min(eos['energy_density']), \"maxE\": np.max(eos['energy_density'])}"
   ]
  },
  {
   "cell_type": "code",
   "execution_count": 209,
   "id": "0eb18869",
   "metadata": {},
   "outputs": [],
   "source": [
    "def tov(y, r):\n",
    "    P, m = y\n",
    "    \n",
    "    if P < TOV_PARAMS['minP'] or P > TOV_PARAMS['maxP']:\n",
    "        return [0,0]\n",
    "    \n",
    "    edens = eps(P)\n",
    "    dp_dr = (-G * ( edens + P / c**2) * (m + 4*np.pi*(r** 3)* P / c**2) ) / (r * (r - 2*G*m/c**2))\n",
    "    dm_dr = 4*np.pi*(r**2)*edens\n",
    "    \n",
    "    return [dp_dr, dm_dr]"
   ]
  },
  {
   "cell_type": "code",
   "execution_count": 210,
   "id": "30dba0e2",
   "metadata": {},
   "outputs": [],
   "source": [
    "def solve_tov(e_c, r_max = 300e5, dmrel=10e-12, dr=100):\n",
    "\n",
    "    e_c *= MeV_fm3_to_pa_cgs/c**2\n",
    "    r = np.arange(dr, r_max + dr, dr)\n",
    "\n",
    "    P = press(e_c)\n",
    "    edens = eps(P)\n",
    "    m = 4.0 * np.pi * (r[0] ** 2) * edens\n",
    "\n",
    "    psol = odeint(tov, [P, m], r, rtol = 1e-5)\n",
    "\n",
    "    p_R, m_R = psol[:,0], psol[:,1]\n",
    "    \n",
    "    del_slope = np.ediff1d(m_R[1:] - m_R[:-1])\n",
    "    ind = np.argmin(del_slope)\n",
    "\n",
    "    M = m_R[ind - 1]\n",
    "    R = r[ind - 1]\n",
    "\n",
    "    r   = r[:ind]\n",
    "    p_R = p_R[:ind]\n",
    "    m_R = m_R[:ind]\n",
    "    \n",
    "    e_R = eps(p_R)\n",
    "    \n",
    "    return R / 1e5, M / Msun, (r, e_R, p_R, m_R)"
   ]
  },
  {
   "cell_type": "code",
   "execution_count": 211,
   "id": "b0074556",
   "metadata": {},
   "outputs": [
    {
     "name": "stdout",
     "output_type": "stream",
     "text": [
      "7.031738200400886e-26\n",
      " lsoda--  warning..internal t (=r1) and h (=r2) are\u0000\u0000\n",
      "       such that in the machine, t + h = t on the next step  \n",
      "       (h = step size). solver will continue anyway\u0000\u0000\n",
      "      in above,  r1 =  0.1000000000000D+02   r2 =  0.3518508453342D-18\n",
      " lsoda--  warning..internal t (=r1) and h (=r2) are\u0000\u0000\n",
      "       such that in the machine, t + h = t on the next step  \n",
      "       (h = step size). solver will continue anyway\u0000\u0000\n",
      "      in above,  r1 =  0.1000000000000D+02   r2 =  0.3518508453342D-18\n"
     ]
    }
   ],
   "source": [
    "r = np.arange(10, 20e3, 10)\n",
    "\n",
    "P = press(1e18)\n",
    "edens = eps(P)\n",
    "m = 4.0 * np.pi * (r[0] ** 3) * edens / c**2\n",
    "print(m/Msun)\n",
    "\n",
    "psol = odeint(tov, [P, m], r, rtol = 1e-5)"
   ]
  },
  {
   "cell_type": "code",
   "execution_count": 212,
   "id": "49300c97",
   "metadata": {},
   "outputs": [],
   "source": [
    "p_R, m_R = psol[:,0], psol[:,1]"
   ]
  },
  {
   "cell_type": "code",
   "execution_count": 213,
   "id": "aad06a97",
   "metadata": {},
   "outputs": [
    {
     "data": {
      "text/plain": [
       "[<matplotlib.lines.Line2D at 0x7fe644e62520>]"
      ]
     },
     "execution_count": 213,
     "metadata": {},
     "output_type": "execute_result"
    },
    {
     "data": {
      "image/png": "[encoded data removed]",
      "text/plain": [
       "<Figure size 800x600 with 1 Axes>"
      ]
     },
     "metadata": {},
     "output_type": "display_data"
    }
   ],
   "source": [
    "plt.plot(m_R/Msun)"
   ]
  },
  {
   "cell_type": "code",
   "execution_count": 214,
   "id": "b91f19c0",
   "metadata": {},
   "outputs": [
    {
     "data": {
      "text/plain": [
       "array([5.02619215e+22, 7.53846562e+22, 1.00497566e+23, ...,\n",
       "       0.00000000e+00, 0.00000000e+00, 0.00000000e+00])"
      ]
     },
     "execution_count": 214,
     "metadata": {},
     "output_type": "execute_result"
    }
   ],
   "source": [
    "np.ediff1d(m_R[1:] - m_R[:-1])"
   ]
  },
  {
   "cell_type": "code",
   "execution_count": 215,
   "id": "dd391f4d",
   "metadata": {},
   "outputs": [
    {
     "data": {
      "text/plain": [
       "[<matplotlib.lines.Line2D at 0x7fe644ef2820>]"
      ]
     },
     "execution_count": 215,
     "metadata": {},
     "output_type": "execute_result"
    },
    {
     "data": {
      "image/png": "[encoded data removed]",
      "text/plain": [
       "<Figure size 800x600 with 1 Axes>"
      ]
     },
     "metadata": {},
     "output_type": "display_data"
    }
   ],
   "source": [
    "plt.plot(np.ediff1d(m_R[1:] - m_R[:-1])/Msun)"
   ]
  },
  {
   "cell_type": "code",
   "execution_count": 224,
   "id": "4f42345a",
   "metadata": {},
   "outputs": [],
   "source": [
    "o1, o2, o3 = solve_tov(5000)"
   ]
  },
  {
   "cell_type": "code",
   "execution_count": 225,
   "id": "475cdd5d",
   "metadata": {},
   "outputs": [
    {
     "data": {
      "text/plain": [
       "(0.03, 0.5794768321376822)"
      ]
     },
     "execution_count": 225,
     "metadata": {},
     "output_type": "execute_result"
    }
   ],
   "source": [
    "o1, o2"
   ]
  },
  {
   "cell_type": "code",
   "execution_count": 226,
   "id": "c01aebc6",
   "metadata": {},
   "outputs": [
    {
     "data": {
      "text/plain": [
       "[<matplotlib.lines.Line2D at 0x7fe64526ca60>]"
      ]
     },
     "execution_count": 226,
     "metadata": {},
     "output_type": "execute_result"
    },
    {
     "data": {
      "image/png": "[encoded data removed]",
      "text/plain": [
       "<Figure size 800x600 with 1 Axes>"
      ]
     },
     "metadata": {},
     "output_type": "display_data"
    }
   ],
   "source": [
    "plt.plot(o3[0]/1e3, o3[-1]/Msun, marker = 'o')"
   ]
  },
  {
   "cell_type": "code",
   "execution_count": 222,
   "id": "64f525d8",
   "metadata": {},
   "outputs": [
    {
     "name": "stderr",
     "output_type": "stream",
     "text": [
      "/home/aswin/anaconda3/lib/python3.9/site-packages/scipy/integrate/_odepack_py.py:248: ODEintWarning: Excess work done on this call (perhaps wrong Dfun type). Run with full_output = 1 to get quantitative information.\n",
      "  warnings.warn(warning_msg, ODEintWarning)\n"
     ]
    }
   ],
   "source": [
    "m_arr = []\n",
    "R_arr = []\n",
    "dc = []\n",
    "\n",
    "for dens_c in np.logspace(-0, 3.7, 350):\n",
    "    try:\n",
    "        R, M, prof = solve_tov(dens_c, r_max=5e5, dr=10)\n",
    "        m_arr.append(M)\n",
    "        R_arr.append(R)\n",
    "        dc.append(dens_c)\n",
    "    except:\n",
    "        pass"
   ]
  },
  {
   "cell_type": "code",
   "execution_count": 223,
   "id": "f30becdb",
   "metadata": {},
   "outputs": [
    {
     "data": {
      "text/plain": [
       "(6.0, 20.0)"
      ]
     },
     "execution_count": 223,
     "metadata": {},
     "output_type": "execute_result"
    },
    {
     "data": {
      "image/png": "[encoded data removed]",
      "text/plain": [
       "<Figure size 800x600 with 1 Axes>"
      ]
     },
     "metadata": {},
     "output_type": "display_data"
    }
   ],
   "source": [
    "plt.plot(R_arr, m_arr)\n",
    "plt.xlim(6, 20)"
   ]
  },
  {
   "cell_type": "code",
   "execution_count": 435,
   "id": "098f10b8",
   "metadata": {},
   "outputs": [],
   "source": [
    "eos['energy_density'] = eos['energy_density']*u.MeV/u.fm**3"
   ]
  },
  {
   "cell_type": "code",
   "execution_count": 436,
   "id": "cdbe039e",
   "metadata": {},
   "outputs": [],
   "source": [
    "eos['pressure'] = eos['pressure']*u.MeV/u.fm**3"
   ]
  },
  {
   "cell_type": "code",
   "execution_count": 447,
   "id": "366c8796",
   "metadata": {},
   "outputs": [
    {
     "data": {
      "text/latex": [
       "$[1.5029987 \\times 10^{32},~1.5781991 \\times 10^{32},~1.6571056 \\times 10^{32},~\\dots,~5.4924406 \\times 10^{36},~5.8414751 \\times 10^{36},~6.2133439 \\times 10^{36}] \\; \\mathrm{\\frac{kg}{m\\,s^{2}}}$"
      ],
      "text/plain": [
       "<Quantity [1.50299869e+32, 1.57819913e+32, 1.65710559e+32, 1.73999126e+32,\n",
       "           1.82702309e+32, 1.91840849e+32, 2.01436511e+32, 2.11512181e+32,\n",
       "           2.22091860e+32, 2.33200737e+32, 2.44865322e+32, 2.57113369e+32,\n",
       "           2.69974106e+32, 2.83478153e+32, 2.97657695e+32, 3.12546493e+32,\n",
       "           3.28180048e+32, 3.44595587e+32, 3.61832239e+32, 3.79931047e+32,\n",
       "           3.98935159e+32, 4.18889816e+32, 4.39842582e+32, 4.61843353e+32,\n",
       "           4.84944537e+32, 5.09201167e+32, 5.34671023e+32, 5.61414762e+32,\n",
       "           5.89496080e+32, 6.18981900e+32, 6.49942420e+32, 6.82451401e+32,\n",
       "           7.16586246e+32, 7.52428257e+32, 7.90062825e+32, 8.29579572e+32,\n",
       "           8.71072643e+32, 9.14640847e+32, 9.60387963e+32, 1.00842301e+33,\n",
       "           1.05886034e+33, 1.11182019e+33, 1.16742870e+33, 1.22581838e+33,\n",
       "           1.28712842e+33, 1.35150489e+33, 1.41910130e+33, 1.49007879e+33,\n",
       "           1.56460667e+33, 1.64286264e+33, 1.72503347e+33, 1.81131525e+33,\n",
       "           1.90191392e+33, 1.99704591e+33, 2.09693843e+33, 2.20183033e+33,\n",
       "           2.31197234e+33, 2.42762797e+33, 2.54907423e+33, 2.67660172e+33,\n",
       "           2.81051639e+33, 2.95113929e+33, 3.09880799e+33, 3.25387727e+33,\n",
       "           3.41671998e+33, 3.58772808e+33, 3.76731354e+33, 3.95590955e+33,\n",
       "           4.15397160e+33, 4.36197853e+33, 4.58042617e+33, 4.80985793e+33,\n",
       "           5.05082475e+33, 5.30391265e+33, 5.56973819e+33, 5.84895008e+33,\n",
       "           6.14223100e+33, 6.45029941e+33, 6.77391156e+33, 7.11386359e+33,\n",
       "           7.47099371e+33, 7.84618462e+33, 8.24036596e+33, 8.65451696e+33,\n",
       "           9.08966936e+33, 9.54691032e+33, 1.00273857e+34, 1.05323037e+34,\n",
       "           1.10629380e+34, 1.16206327e+34, 1.22068056e+34, 1.28229540e+34,\n",
       "           1.34706589e+34, 1.41515915e+34, 1.48675188e+34, 1.56203115e+34,\n",
       "           1.64119511e+34, 1.72445395e+34, 1.81203090e+34, 1.90416343e+34,\n",
       "           2.00110468e+34, 2.10312468e+34, 2.21051294e+34, 2.32358012e+34,\n",
       "           2.44266084e+34, 2.56809173e+34, 2.70017807e+34, 2.83928489e+34,\n",
       "           2.98582350e+34, 3.14024703e+34, 3.30305441e+34, 3.47479597e+34,\n",
       "           3.65608032e+34, 3.84758232e+34, 4.05005213e+34, 4.26432533e+34,\n",
       "           4.49133371e+34, 4.73211665e+34, 4.98783408e+34, 5.25977471e+34,\n",
       "           5.54938051e+34, 5.85824845e+34, 6.18815905e+34, 6.54109089e+34,\n",
       "           6.91924930e+34, 7.32508758e+34, 7.76134206e+34, 8.23088815e+34,\n",
       "           8.73562235e+34, 9.27743530e+34, 9.85812722e+34, 1.04774985e+35,\n",
       "           1.11348012e+35, 1.18375272e+35, 1.25894928e+35, 1.33947244e+35,\n",
       "           1.42574164e+35, 1.51817801e+35, 1.61721683e+35, 1.72331265e+35,\n",
       "           1.83694133e+35, 1.95860129e+35, 2.08881416e+35, 2.22812516e+35,\n",
       "           2.37710346e+35, 2.53634234e+35, 2.70645941e+35, 2.88809668e+35,\n",
       "           3.08192074e+35, 3.28862293e+35, 3.50891961e+35, 3.74355213e+35,\n",
       "           3.99328854e+35, 4.25892252e+35, 4.54127532e+35, 4.84119651e+35,\n",
       "           5.15956539e+35, 5.49729253e+35, 5.85532178e+35, 6.23463253e+35,\n",
       "           6.63624239e+35, 7.06121026e+35, 7.51064001e+35, 7.98568468e+35,\n",
       "           8.48755167e+35, 9.01750910e+35, 9.57689446e+35, 1.01671281e+36,\n",
       "           1.07897615e+36, 1.14467424e+36, 1.21418398e+36, 1.28805465e+36,\n",
       "           1.36659116e+36, 1.45009556e+36, 1.53888975e+36, 1.63331673e+36,\n",
       "           1.73374207e+36, 1.84055529e+36, 1.95417150e+36, 2.07503304e+36,\n",
       "           2.20361121e+36, 2.34040816e+36, 2.48595882e+36, 2.64083298e+36,\n",
       "           2.80563740e+36, 2.98101801e+36, 3.16766217e+36, 3.36630086e+36,\n",
       "           3.57771084e+36, 3.80271677e+36, 4.04219408e+36, 4.29707626e+36,\n",
       "           4.56837594e+36, 4.85721300e+36, 5.16480523e+36, 5.49244056e+36,\n",
       "           5.84147508e+36, 6.21334389e+36] kg / (m s2)>"
      ]
     },
     "execution_count": 447,
     "metadata": {},
     "output_type": "execute_result"
    }
   ],
   "source": [
    "(eos['energy_density'].to_numpy()*u.MeV/u.fm**3).decompose()"
   ]
  },
  {
   "cell_type": "code",
   "execution_count": 397,
   "id": "0e12d54d",
   "metadata": {},
   "outputs": [],
   "source": [
    "P = press(200)*u.MeV/u.fm**3\n",
    "edens = eps(P)*u.MeV/u.fm**3"
   ]
  },
  {
   "cell_type": "code",
   "execution_count": 398,
   "id": "2ceccdb0",
   "metadata": {},
   "outputs": [],
   "source": [
    "r = 1*u.km\n",
    "m = (4.0 * np.pi * (r ** 3) * edens/c **2)"
   ]
  },
  {
   "cell_type": "code",
   "execution_count": 399,
   "id": "5a7de0b7",
   "metadata": {},
   "outputs": [
    {
     "data": {
      "text/latex": [
       "$207.14163 \\; \\mathrm{\\frac{MeV}{fm^{3}}}$"
      ],
      "text/plain": [
       "<Quantity 207.1416332 MeV / fm3>"
      ]
     },
     "execution_count": 399,
     "metadata": {},
     "output_type": "execute_result"
    }
   ],
   "source": [
    "edens + P"
   ]
  },
  {
   "cell_type": "code",
   "execution_count": 400,
   "id": "1a6ac29d",
   "metadata": {},
   "outputs": [
    {
     "data": {
      "text/latex": [
       "$4.4552037 \\times 10^{-39} \\; \\mathrm{\\frac{km^{3}\\,MeV^{2}\\,s^{2}}{kg\\,m\\,fm^{6}}}$"
      ],
      "text/plain": [
       "<Quantity 4.45520373e-39 km3 MeV2 s2 / (kg m fm6)>"
      ]
     },
     "execution_count": 400,
     "metadata": {},
     "output_type": "execute_result"
    }
   ],
   "source": [
    "(G * ( (edens + P) / c**2) * (m + 4*np.pi*(r** 3)* P / c**2))"
   ]
  },
  {
   "cell_type": "code",
   "execution_count": 358,
   "id": "a4d6f0ab",
   "metadata": {},
   "outputs": [
    {
     "data": {
      "text/latex": [
       "$0.99334568 \\; \\mathrm{km}$"
      ],
      "text/plain": [
       "<Quantity 0.99334568 km>"
      ]
     },
     "execution_count": 358,
     "metadata": {},
     "output_type": "execute_result"
    }
   ],
   "source": [
    "r - 2*G*m/c**2"
   ]
  },
  {
   "cell_type": "code",
   "execution_count": 402,
   "id": "1f56dd04",
   "metadata": {},
   "outputs": [
    {
     "data": {
      "text/latex": [
       "$-1.1512985 \\times 10^{29} \\; \\mathrm{\\frac{kg}{m^{2}\\,s^{2}}}$"
      ],
      "text/plain": [
       "<Quantity -1.15129852e+29 kg / (m2 s2)>"
      ]
     },
     "execution_count": 402,
     "metadata": {},
     "output_type": "execute_result"
    }
   ],
   "source": [
    "((-G * ( (edens + P) / c**2) * (m + 4*np.pi*(r** 3)* P / c**2)) / (r * (r - 2*G*m/c**2))).decompose()"
   ]
  },
  {
   "cell_type": "code",
   "execution_count": 416,
   "id": "29c9e7a2",
   "metadata": {},
   "outputs": [
    {
     "data": {
      "text/latex": [
       "$4.4803211 \\times 10^{24} \\; \\mathrm{\\frac{kg}{m}}$"
      ],
      "text/plain": [
       "<Quantity 4.48032112e+24 kg / m>"
      ]
     },
     "execution_count": 416,
     "metadata": {},
     "output_type": "execute_result"
    }
   ],
   "source": [
    "(4*np.pi*(r**2)*edens/c**2).decompose()"
   ]
  },
  {
   "cell_type": "code",
   "execution_count": 411,
   "id": "52bcc2c0",
   "metadata": {},
   "outputs": [
    {
     "data": {
      "text/latex": [
       "$-7.1858402 \\times 10^{-19} \\; \\mathrm{\\frac{MeV}{fm^{4}}}$"
      ],
      "text/plain": [
       "<Quantity -7.18584017e-19 MeV / fm4>"
      ]
     },
     "execution_count": 411,
     "metadata": {},
     "output_type": "execute_result"
    }
   ],
   "source": [
    "(-(G/c**2)*((P + edens) * (m + 4*np.pi*r**3*P/c**2))/(r * (r - 2*G*m/c**2))).to(u.MeV/u.fm**4)"
   ]
  },
  {
   "cell_type": "code",
   "execution_count": 250,
   "id": "a5d7c1fe",
   "metadata": {},
   "outputs": [
    {
     "name": "stderr",
     "output_type": "stream",
     "text": [
      "/home/aswin/anaconda3/lib/python3.9/site-packages/scipy/integrate/_odepack_py.py:248: ODEintWarning: Excess work done on this call (perhaps wrong Dfun type). Run with full_output = 1 to get quantitative information.\n",
      "  warnings.warn(warning_msg, ODEintWarning)\n"
     ]
    }
   ],
   "source": [
    "m_arr = []\n",
    "R_arr = []\n",
    "\n",
    "for dens_c in np.logspace(-0,3.7,350):\n",
    "    try:\n",
    "        R, M, prof = solve_tov(dens_c, rmax=50e5, dr=100)\n",
    "        m_arr.append(M)\n",
    "        R_arr.append(R)\n",
    "    except:\n",
    "        pass"
   ]
  },
  {
   "cell_type": "code",
   "execution_count": 254,
   "id": "0f69e2c5",
   "metadata": {},
   "outputs": [
    {
     "data": {
      "image/png": "[encoded data removed]",
      "text/plain": [
       "<Figure size 800x600 with 1 Axes>"
      ]
     },
     "metadata": {},
     "output_type": "display_data"
    }
   ],
   "source": [
    "# plt.plot(R_arr1, m_arr1)\n",
    "plt.plot(R_arr, m_arr, marker = 'o', color = 'cornflowerblue', markersize = 1)\n",
    "plt.grid(alpha = 0.5, linestyle = '--')\n",
    "plt.title('NS M-R curve')\n",
    "plt.xlabel('Radius (km)')\n",
    "plt.ylabel('Mass (Msun)')\n",
    "plt.savefig('mr.png', dpi = 300, bbox_inches = 'tight')"
   ]
  },
  {
   "cell_type": "code",
   "execution_count": null,
   "id": "3aa17957",
   "metadata": {},
   "outputs": [],
   "source": []
  }
 ],
 "metadata": {
  "kernelspec": {
   "display_name": "Python 3 (ipykernel)",
   "language": "python",
   "name": "python3"
  },
  "language_info": {
   "codemirror_mode": {
    "name": "ipython",
    "version": 3
   },
   "file_extension": ".py",
   "mimetype": "text/x-python",
   "name": "python",
   "nbconvert_exporter": "python",
   "pygments_lexer": "ipython3",
   "version": "3.9.13"
  }
 },
 "nbformat": 4,
 "nbformat_minor": 5
}
