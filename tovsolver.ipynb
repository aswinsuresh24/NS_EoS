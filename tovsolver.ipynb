{
 "cells": [
  {
   "cell_type": "code",
   "execution_count": 2,
   "id": "877e2193",
   "metadata": {},
   "outputs": [],
   "source": [
    "from scipy.interpolate import interp1d\n",
    "from scipy.integrate import odeint\n",
    "from scipy.optimize import root\n",
    "import matplotlib.pyplot as plt"
   ]
  },
  {
   "cell_type": "code",
   "execution_count": 3,
   "id": "8ad7407f",
   "metadata": {},
   "outputs": [],
   "source": [
    "import math\n",
    "\n",
    "G  = 6.6730831e-8\n",
    "c  = 2.99792458e10\n",
    "MeV_fm3_to_pa = 1.6021766e35\n",
    "c_km = 2.99792458e5 # km/s\n",
    "mN = 1.67e-24 # g\n",
    "mev_to_ergs = 1.602176565e-6\n",
    "fm_to_cm = 1.0e-13\n",
    "ergs_to_mev = 1.0/mev_to_ergs\n",
    "cm_to_fm = 1.0/fm_to_cm\n",
    "Msun = 1.988435e33\n",
    "MeV_fm3_to_pa_cgs = 1.6021766e33\n",
    "km_to_mSun = G/c**2\n",
    "\n",
    "hbarc3 = 197.32700288295746**3\n",
    "\n",
    "nucleon_mass = 938.04\n",
    "\n",
    "pi = math.pi"
   ]
  },
  {
   "cell_type": "code",
   "execution_count": 4,
   "id": "9047a103",
   "metadata": {},
   "outputs": [],
   "source": [
    "def solve_tov(c_dens, rmax=30e5, rtol=1.0e-5, dmrel=10e-12, dr=100):\n",
    "    c_dens *= MeV_fm3_to_pa_cgs / c ** 2\n",
    "\n",
    "#     self.check_density(c_dens)\n",
    "\n",
    "    r = np.arange(dr, rmax + dr, dr)\n",
    "\n",
    "    P = self.press(c_dens)\n",
    "    eden = self.en_dens(P)\n",
    "    m = 4.0 * pi * r[0] ** 3 * eden\n",
    "\n",
    "    psol = odeint(self.tov_eq, [P, m], r, rtol=rtol)\n",
    "    p_R, m_R = psol[:,0], psol[:,1]\n",
    "\n",
    "    # find the boundary of the star by finding point\n",
    "    # where the mass stops to increase\n",
    "\n",
    "    diff = (m_R[1:] - m_R[:-1])/m_R[1:]\n",
    "    ind = -1\n",
    "    for i, dm in enumerate(diff):\n",
    "      if dm < dmrel and m_R[i] != 0:\n",
    "        ind = i\n",
    "        break\n",
    "\n",
    "    M = m_R[ind - 1]\n",
    "    R = r[ind - 1]\n",
    "\n",
    "    r   = r[:ind]\n",
    "    p_R = p_R[:ind]\n",
    "    m_R = m_R[:ind]\n",
    "    \n",
    "    e_R = self.en_dens(p_R)\n",
    "    \n",
    "    return R / 1e5, M / Msun, (r, e_R, p_R, m_R)"
   ]
  }
 ],
 "metadata": {
  "kernelspec": {
   "display_name": "Python 3 (ipykernel)",
   "language": "python",
   "name": "python3"
  },
  "language_info": {
   "codemirror_mode": {
    "name": "ipython",
    "version": 3
   },
   "file_extension": ".py",
   "mimetype": "text/x-python",
   "name": "python",
   "nbconvert_exporter": "python",
   "pygments_lexer": "ipython3",
   "version": "3.9.13"
  }
 },
 "nbformat": 4,
 "nbformat_minor": 5
}
